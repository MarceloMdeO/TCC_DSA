{
 "cells": [
  {
   "cell_type": "code",
   "execution_count": 1,
   "metadata": {},
   "outputs": [],
   "source": [
    "#bibliotecas de análise\n",
    "import pandas as pd\n",
    "import numpy as np\n",
    "\n",
    "#pacotes para gráficos\n",
    "import graphviz\n",
    "import matplotlib.pyplot as plt\n",
    "import seaborn as sns\n",
    "\n",
    "#pacote para clustering\n",
    "from sklearn.cluster import KMeans\n",
    "from sklearn.cluster import AgglomerativeClustering\n",
    "from scipy.cluster.hierarchy import dendrogram\n",
    "\n",
    "#pacote para realização do PCA\n",
    "from sklearn.decomposition import PCA\n",
    "from sklearn.discriminant_analysis import LinearDiscriminantAnalysis\n",
    "from sklearn.preprocessing import StandardScaler\n",
    "\n",
    "#pacote para arvore de decião\n",
    "from sklearn.tree import DecisionTreeClassifier\n",
    "from sklearn.tree import DecisionTreeRegressor\n",
    "\n",
    "#pacotes para o randon florest\n",
    "from sklearn.ensemble import RandomForestClassifier\n",
    "from sklearn.tree import export_graphviz"
   ]
  },
  {
   "cell_type": "markdown",
   "metadata": {},
   "source": [
    "Carregando a tabela de dados préprocessada"
   ]
  },
  {
   "cell_type": "code",
   "execution_count": 2,
   "metadata": {},
   "outputs": [],
   "source": [
    "df = pd.read_csv('../Scripts/df_metal_PCA.csv', sep = ',', header = 0, na_values = True)\n",
    "df2 = pd.read_csv('../Scripts/df_metal_ML.csv', sep = ',', header = 0, na_values = True)"
   ]
  },
  {
   "cell_type": "code",
   "execution_count": 3,
   "metadata": {},
   "outputs": [
    {
     "name": "stdout",
     "output_type": "stream",
     "text": [
      "<class 'pandas.core.frame.DataFrame'>\n",
      "RangeIndex: 1454 entries, 0 to 1453\n",
      "Data columns (total 11 columns):\n",
      " #   Column  Non-Null Count  Dtype  \n",
      "---  ------  --------------  -----  \n",
      " 0   Std     1454 non-null   object \n",
      " 1   Su      1454 non-null   int64  \n",
      " 2   Sy      1454 non-null   int64  \n",
      " 3   A5      1454 non-null   float64\n",
      " 4   Bhn     1454 non-null   float64\n",
      " 5   E       1454 non-null   int64  \n",
      " 6   G       1454 non-null   int64  \n",
      " 7   mu      1454 non-null   float64\n",
      " 8   Ro      1454 non-null   int64  \n",
      " 9   pH      1454 non-null   float64\n",
      " 10  HV      1454 non-null   float64\n",
      "dtypes: float64(5), int64(5), object(1)\n",
      "memory usage: 125.1+ KB\n"
     ]
    }
   ],
   "source": [
    "df.info()"
   ]
  },
  {
   "cell_type": "code",
   "execution_count": 4,
   "metadata": {},
   "outputs": [
    {
     "data": {
      "text/html": [
       "<div>\n",
       "<style scoped>\n",
       "    .dataframe tbody tr th:only-of-type {\n",
       "        vertical-align: middle;\n",
       "    }\n",
       "\n",
       "    .dataframe tbody tr th {\n",
       "        vertical-align: top;\n",
       "    }\n",
       "\n",
       "    .dataframe thead th {\n",
       "        text-align: right;\n",
       "    }\n",
       "</style>\n",
       "<table border=\"1\" class=\"dataframe\">\n",
       "  <thead>\n",
       "    <tr style=\"text-align: right;\">\n",
       "      <th></th>\n",
       "      <th>Std</th>\n",
       "      <th>Su</th>\n",
       "      <th>Sy</th>\n",
       "      <th>A5</th>\n",
       "      <th>Bhn</th>\n",
       "      <th>E</th>\n",
       "      <th>G</th>\n",
       "      <th>mu</th>\n",
       "      <th>Ro</th>\n",
       "      <th>pH</th>\n",
       "      <th>HV</th>\n",
       "    </tr>\n",
       "  </thead>\n",
       "  <tbody>\n",
       "    <tr>\n",
       "      <th>count</th>\n",
       "      <td>1454</td>\n",
       "      <td>1454.000000</td>\n",
       "      <td>1454.000000</td>\n",
       "      <td>1454.000000</td>\n",
       "      <td>1454.000000</td>\n",
       "      <td>1454.000000</td>\n",
       "      <td>1454.000000</td>\n",
       "      <td>1454.000000</td>\n",
       "      <td>1454.000000</td>\n",
       "      <td>1454.000000</td>\n",
       "      <td>1454.000000</td>\n",
       "    </tr>\n",
       "    <tr>\n",
       "      <th>unique</th>\n",
       "      <td>1369</td>\n",
       "      <td>NaN</td>\n",
       "      <td>NaN</td>\n",
       "      <td>NaN</td>\n",
       "      <td>NaN</td>\n",
       "      <td>NaN</td>\n",
       "      <td>NaN</td>\n",
       "      <td>NaN</td>\n",
       "      <td>NaN</td>\n",
       "      <td>NaN</td>\n",
       "      <td>NaN</td>\n",
       "    </tr>\n",
       "    <tr>\n",
       "      <th>top</th>\n",
       "      <td>JIS JIS Grey cast iron Desconhecido</td>\n",
       "      <td>NaN</td>\n",
       "      <td>NaN</td>\n",
       "      <td>NaN</td>\n",
       "      <td>NaN</td>\n",
       "      <td>NaN</td>\n",
       "      <td>NaN</td>\n",
       "      <td>NaN</td>\n",
       "      <td>NaN</td>\n",
       "      <td>NaN</td>\n",
       "      <td>NaN</td>\n",
       "    </tr>\n",
       "    <tr>\n",
       "      <th>freq</th>\n",
       "      <td>5</td>\n",
       "      <td>NaN</td>\n",
       "      <td>NaN</td>\n",
       "      <td>NaN</td>\n",
       "      <td>NaN</td>\n",
       "      <td>NaN</td>\n",
       "      <td>NaN</td>\n",
       "      <td>NaN</td>\n",
       "      <td>NaN</td>\n",
       "      <td>NaN</td>\n",
       "      <td>NaN</td>\n",
       "    </tr>\n",
       "    <tr>\n",
       "      <th>mean</th>\n",
       "      <td>NaN</td>\n",
       "      <td>513.936726</td>\n",
       "      <td>330.294360</td>\n",
       "      <td>17.432737</td>\n",
       "      <td>45.118294</td>\n",
       "      <td>161825.309491</td>\n",
       "      <td>80385.419532</td>\n",
       "      <td>0.303219</td>\n",
       "      <td>6866.277166</td>\n",
       "      <td>77.460110</td>\n",
       "      <td>33.303989</td>\n",
       "    </tr>\n",
       "    <tr>\n",
       "      <th>std</th>\n",
       "      <td>NaN</td>\n",
       "      <td>233.019357</td>\n",
       "      <td>182.779767</td>\n",
       "      <td>13.434072</td>\n",
       "      <td>81.773459</td>\n",
       "      <td>56946.187688</td>\n",
       "      <td>113910.213767</td>\n",
       "      <td>0.025380</td>\n",
       "      <td>2170.580176</td>\n",
       "      <td>241.094212</td>\n",
       "      <td>116.820719</td>\n",
       "    </tr>\n",
       "    <tr>\n",
       "      <th>min</th>\n",
       "      <td>NaN</td>\n",
       "      <td>69.000000</td>\n",
       "      <td>28.000000</td>\n",
       "      <td>0.000000</td>\n",
       "      <td>0.000000</td>\n",
       "      <td>73000.000000</td>\n",
       "      <td>26000.000000</td>\n",
       "      <td>0.200000</td>\n",
       "      <td>1750.000000</td>\n",
       "      <td>0.000000</td>\n",
       "      <td>0.000000</td>\n",
       "    </tr>\n",
       "    <tr>\n",
       "      <th>25%</th>\n",
       "      <td>NaN</td>\n",
       "      <td>330.000000</td>\n",
       "      <td>200.000000</td>\n",
       "      <td>9.000000</td>\n",
       "      <td>0.000000</td>\n",
       "      <td>105000.000000</td>\n",
       "      <td>40000.000000</td>\n",
       "      <td>0.300000</td>\n",
       "      <td>7160.000000</td>\n",
       "      <td>0.000000</td>\n",
       "      <td>0.000000</td>\n",
       "    </tr>\n",
       "    <tr>\n",
       "      <th>50%</th>\n",
       "      <td>NaN</td>\n",
       "      <td>490.000000</td>\n",
       "      <td>294.000000</td>\n",
       "      <td>15.000000</td>\n",
       "      <td>0.000000</td>\n",
       "      <td>205000.000000</td>\n",
       "      <td>79000.000000</td>\n",
       "      <td>0.300000</td>\n",
       "      <td>7860.000000</td>\n",
       "      <td>0.000000</td>\n",
       "      <td>0.000000</td>\n",
       "    </tr>\n",
       "    <tr>\n",
       "      <th>75%</th>\n",
       "      <td>NaN</td>\n",
       "      <td>670.000000</td>\n",
       "      <td>420.000000</td>\n",
       "      <td>23.000000</td>\n",
       "      <td>60.000000</td>\n",
       "      <td>206000.000000</td>\n",
       "      <td>80000.000000</td>\n",
       "      <td>0.320000</td>\n",
       "      <td>7860.000000</td>\n",
       "      <td>0.000000</td>\n",
       "      <td>0.000000</td>\n",
       "    </tr>\n",
       "    <tr>\n",
       "      <th>max</th>\n",
       "      <td>NaN</td>\n",
       "      <td>1200.000000</td>\n",
       "      <td>850.000000</td>\n",
       "      <td>70.000000</td>\n",
       "      <td>495.000000</td>\n",
       "      <td>219000.000000</td>\n",
       "      <td>769000.000000</td>\n",
       "      <td>0.350000</td>\n",
       "      <td>8930.000000</td>\n",
       "      <td>1360.000000</td>\n",
       "      <td>800.000000</td>\n",
       "    </tr>\n",
       "  </tbody>\n",
       "</table>\n",
       "</div>"
      ],
      "text/plain": [
       "                                        Std           Su           Sy  \\\n",
       "count                                  1454  1454.000000  1454.000000   \n",
       "unique                                 1369          NaN          NaN   \n",
       "top     JIS JIS Grey cast iron Desconhecido          NaN          NaN   \n",
       "freq                                      5          NaN          NaN   \n",
       "mean                                    NaN   513.936726   330.294360   \n",
       "std                                     NaN   233.019357   182.779767   \n",
       "min                                     NaN    69.000000    28.000000   \n",
       "25%                                     NaN   330.000000   200.000000   \n",
       "50%                                     NaN   490.000000   294.000000   \n",
       "75%                                     NaN   670.000000   420.000000   \n",
       "max                                     NaN  1200.000000   850.000000   \n",
       "\n",
       "                 A5          Bhn              E              G           mu  \\\n",
       "count   1454.000000  1454.000000    1454.000000    1454.000000  1454.000000   \n",
       "unique          NaN          NaN            NaN            NaN          NaN   \n",
       "top             NaN          NaN            NaN            NaN          NaN   \n",
       "freq            NaN          NaN            NaN            NaN          NaN   \n",
       "mean      17.432737    45.118294  161825.309491   80385.419532     0.303219   \n",
       "std       13.434072    81.773459   56946.187688  113910.213767     0.025380   \n",
       "min        0.000000     0.000000   73000.000000   26000.000000     0.200000   \n",
       "25%        9.000000     0.000000  105000.000000   40000.000000     0.300000   \n",
       "50%       15.000000     0.000000  205000.000000   79000.000000     0.300000   \n",
       "75%       23.000000    60.000000  206000.000000   80000.000000     0.320000   \n",
       "max       70.000000   495.000000  219000.000000  769000.000000     0.350000   \n",
       "\n",
       "                 Ro           pH           HV  \n",
       "count   1454.000000  1454.000000  1454.000000  \n",
       "unique          NaN          NaN          NaN  \n",
       "top             NaN          NaN          NaN  \n",
       "freq            NaN          NaN          NaN  \n",
       "mean    6866.277166    77.460110    33.303989  \n",
       "std     2170.580176   241.094212   116.820719  \n",
       "min     1750.000000     0.000000     0.000000  \n",
       "25%     7160.000000     0.000000     0.000000  \n",
       "50%     7860.000000     0.000000     0.000000  \n",
       "75%     7860.000000     0.000000     0.000000  \n",
       "max     8930.000000  1360.000000   800.000000  "
      ]
     },
     "execution_count": 4,
     "metadata": {},
     "output_type": "execute_result"
    }
   ],
   "source": [
    "df.describe(include = 'all')"
   ]
  },
  {
   "cell_type": "code",
   "execution_count": 5,
   "metadata": {},
   "outputs": [],
   "source": [
    "df.set_index('Std', inplace = True)"
   ]
  },
  {
   "cell_type": "code",
   "execution_count": 6,
   "metadata": {},
   "outputs": [
    {
     "data": {
      "text/html": [
       "<div>\n",
       "<style scoped>\n",
       "    .dataframe tbody tr th:only-of-type {\n",
       "        vertical-align: middle;\n",
       "    }\n",
       "\n",
       "    .dataframe tbody tr th {\n",
       "        vertical-align: top;\n",
       "    }\n",
       "\n",
       "    .dataframe thead th {\n",
       "        text-align: right;\n",
       "    }\n",
       "</style>\n",
       "<table border=\"1\" class=\"dataframe\">\n",
       "  <thead>\n",
       "    <tr style=\"text-align: right;\">\n",
       "      <th></th>\n",
       "      <th>Su</th>\n",
       "      <th>Sy</th>\n",
       "      <th>A5</th>\n",
       "      <th>Bhn</th>\n",
       "      <th>E</th>\n",
       "      <th>G</th>\n",
       "      <th>mu</th>\n",
       "      <th>Ro</th>\n",
       "      <th>pH</th>\n",
       "      <th>HV</th>\n",
       "    </tr>\n",
       "    <tr>\n",
       "      <th>Std</th>\n",
       "      <th></th>\n",
       "      <th></th>\n",
       "      <th></th>\n",
       "      <th></th>\n",
       "      <th></th>\n",
       "      <th></th>\n",
       "      <th></th>\n",
       "      <th></th>\n",
       "      <th></th>\n",
       "      <th></th>\n",
       "    </tr>\n",
       "  </thead>\n",
       "  <tbody>\n",
       "    <tr>\n",
       "      <th>ANSI ANSI Steel SAE 1015 as-rolled</th>\n",
       "      <td>421</td>\n",
       "      <td>314</td>\n",
       "      <td>39.0</td>\n",
       "      <td>126.0</td>\n",
       "      <td>207000</td>\n",
       "      <td>79000</td>\n",
       "      <td>0.3</td>\n",
       "      <td>7860</td>\n",
       "      <td>0.0</td>\n",
       "      <td>0.0</td>\n",
       "    </tr>\n",
       "    <tr>\n",
       "      <th>ANSI ANSI Steel SAE 1015 normalized</th>\n",
       "      <td>424</td>\n",
       "      <td>324</td>\n",
       "      <td>37.0</td>\n",
       "      <td>121.0</td>\n",
       "      <td>207000</td>\n",
       "      <td>79000</td>\n",
       "      <td>0.3</td>\n",
       "      <td>7860</td>\n",
       "      <td>0.0</td>\n",
       "      <td>0.0</td>\n",
       "    </tr>\n",
       "    <tr>\n",
       "      <th>ANSI ANSI Steel SAE 1015 annealed</th>\n",
       "      <td>386</td>\n",
       "      <td>284</td>\n",
       "      <td>37.0</td>\n",
       "      <td>111.0</td>\n",
       "      <td>207000</td>\n",
       "      <td>79000</td>\n",
       "      <td>0.3</td>\n",
       "      <td>7860</td>\n",
       "      <td>0.0</td>\n",
       "      <td>0.0</td>\n",
       "    </tr>\n",
       "  </tbody>\n",
       "</table>\n",
       "</div>"
      ],
      "text/plain": [
       "                                      Su   Sy    A5    Bhn       E      G  \\\n",
       "Std                                                                         \n",
       "ANSI ANSI Steel SAE 1015 as-rolled   421  314  39.0  126.0  207000  79000   \n",
       "ANSI ANSI Steel SAE 1015 normalized  424  324  37.0  121.0  207000  79000   \n",
       "ANSI ANSI Steel SAE 1015 annealed    386  284  37.0  111.0  207000  79000   \n",
       "\n",
       "                                      mu    Ro   pH   HV  \n",
       "Std                                                       \n",
       "ANSI ANSI Steel SAE 1015 as-rolled   0.3  7860  0.0  0.0  \n",
       "ANSI ANSI Steel SAE 1015 normalized  0.3  7860  0.0  0.0  \n",
       "ANSI ANSI Steel SAE 1015 annealed    0.3  7860  0.0  0.0  "
      ]
     },
     "execution_count": 6,
     "metadata": {},
     "output_type": "execute_result"
    }
   ],
   "source": [
    "df.head(3)"
   ]
  },
  {
   "cell_type": "code",
   "execution_count": 9,
   "metadata": {},
   "outputs": [],
   "source": [
    "#padronização dos dados\n",
    "scaler = StandardScaler().fit(df)\n",
    "scaler_x = scaler.transform(df)"
   ]
  },
  {
   "cell_type": "code",
   "execution_count": 11,
   "metadata": {},
   "outputs": [
    {
     "data": {
      "text/html": [
       "<div>\n",
       "<style scoped>\n",
       "    .dataframe tbody tr th:only-of-type {\n",
       "        vertical-align: middle;\n",
       "    }\n",
       "\n",
       "    .dataframe tbody tr th {\n",
       "        vertical-align: top;\n",
       "    }\n",
       "\n",
       "    .dataframe thead th {\n",
       "        text-align: right;\n",
       "    }\n",
       "</style>\n",
       "<table border=\"1\" class=\"dataframe\">\n",
       "  <thead>\n",
       "    <tr style=\"text-align: right;\">\n",
       "      <th></th>\n",
       "      <th>Su</th>\n",
       "      <th>Sy</th>\n",
       "      <th>A5</th>\n",
       "      <th>Bhn</th>\n",
       "      <th>E</th>\n",
       "      <th>G</th>\n",
       "      <th>mu</th>\n",
       "      <th>Ro</th>\n",
       "      <th>pH</th>\n",
       "      <th>HV</th>\n",
       "    </tr>\n",
       "    <tr>\n",
       "      <th>Std</th>\n",
       "      <th></th>\n",
       "      <th></th>\n",
       "      <th></th>\n",
       "      <th></th>\n",
       "      <th></th>\n",
       "      <th></th>\n",
       "      <th></th>\n",
       "      <th></th>\n",
       "      <th></th>\n",
       "      <th></th>\n",
       "    </tr>\n",
       "  </thead>\n",
       "  <tbody>\n",
       "    <tr>\n",
       "      <th>ANSI ANSI Steel SAE 1015 as-rolled</th>\n",
       "      <td>-0.398974</td>\n",
       "      <td>-0.089178</td>\n",
       "      <td>1.605967</td>\n",
       "      <td>0.989435</td>\n",
       "      <td>0.79356</td>\n",
       "      <td>-0.012167</td>\n",
       "      <td>-0.126865</td>\n",
       "      <td>0.457972</td>\n",
       "      <td>-0.321396</td>\n",
       "      <td>-0.285184</td>\n",
       "    </tr>\n",
       "    <tr>\n",
       "      <th>ANSI ANSI Steel SAE 1015 normalized</th>\n",
       "      <td>-0.386095</td>\n",
       "      <td>-0.034449</td>\n",
       "      <td>1.457041</td>\n",
       "      <td>0.928270</td>\n",
       "      <td>0.79356</td>\n",
       "      <td>-0.012167</td>\n",
       "      <td>-0.126865</td>\n",
       "      <td>0.457972</td>\n",
       "      <td>-0.321396</td>\n",
       "      <td>-0.285184</td>\n",
       "    </tr>\n",
       "    <tr>\n",
       "      <th>ANSI ANSI Steel SAE 1015 annealed</th>\n",
       "      <td>-0.549228</td>\n",
       "      <td>-0.253367</td>\n",
       "      <td>1.457041</td>\n",
       "      <td>0.805938</td>\n",
       "      <td>0.79356</td>\n",
       "      <td>-0.012167</td>\n",
       "      <td>-0.126865</td>\n",
       "      <td>0.457972</td>\n",
       "      <td>-0.321396</td>\n",
       "      <td>-0.285184</td>\n",
       "    </tr>\n",
       "  </tbody>\n",
       "</table>\n",
       "</div>"
      ],
      "text/plain": [
       "                                           Su        Sy        A5       Bhn  \\\n",
       "Std                                                                           \n",
       "ANSI ANSI Steel SAE 1015 as-rolled  -0.398974 -0.089178  1.605967  0.989435   \n",
       "ANSI ANSI Steel SAE 1015 normalized -0.386095 -0.034449  1.457041  0.928270   \n",
       "ANSI ANSI Steel SAE 1015 annealed   -0.549228 -0.253367  1.457041  0.805938   \n",
       "\n",
       "                                           E         G        mu        Ro  \\\n",
       "Std                                                                          \n",
       "ANSI ANSI Steel SAE 1015 as-rolled   0.79356 -0.012167 -0.126865  0.457972   \n",
       "ANSI ANSI Steel SAE 1015 normalized  0.79356 -0.012167 -0.126865  0.457972   \n",
       "ANSI ANSI Steel SAE 1015 annealed    0.79356 -0.012167 -0.126865  0.457972   \n",
       "\n",
       "                                           pH        HV  \n",
       "Std                                                      \n",
       "ANSI ANSI Steel SAE 1015 as-rolled  -0.321396 -0.285184  \n",
       "ANSI ANSI Steel SAE 1015 normalized -0.321396 -0.285184  \n",
       "ANSI ANSI Steel SAE 1015 annealed   -0.321396 -0.285184  "
      ]
     },
     "execution_count": 11,
     "metadata": {},
     "output_type": "execute_result"
    }
   ],
   "source": [
    "df_x = pd.DataFrame(data = scaler_x, columns =df.columns, index=df.index)\n",
    "df_x.head(3)"
   ]
  },
  {
   "cell_type": "markdown",
   "metadata": {},
   "source": [
    "Analise do componente principais - PCA"
   ]
  },
  {
   "cell_type": "code",
   "execution_count": 13,
   "metadata": {},
   "outputs": [
    {
     "data": {
      "text/plain": [
       "array([[ 0.17261158, -1.4638981 ,  0.70310086, ..., -0.48573968,\n",
       "        -0.05707511,  0.51754779],\n",
       "       [ 0.20588096, -1.3888715 ,  0.62200731, ..., -0.46208314,\n",
       "        -0.05210798,  0.5261809 ],\n",
       "       [ 0.02085208, -1.34760979,  0.79040427, ..., -0.50989399,\n",
       "        -0.04715816,  0.49277618],\n",
       "       ...,\n",
       "       [ 3.36089858,  2.96715733,  0.22603396, ...,  0.17124478,\n",
       "        -0.05359531, -0.40404754],\n",
       "       [ 0.48518136,  2.03066648,  0.87171533, ..., -0.05526902,\n",
       "        -0.5446303 , -0.29151354],\n",
       "       [ 0.9692361 ,  2.18859229,  0.71184831, ...,  0.02872769,\n",
       "        -0.40099912, -0.31182435]])"
      ]
     },
     "execution_count": 13,
     "metadata": {},
     "output_type": "execute_result"
    }
   ],
   "source": [
    "#calculando o melhor número de componentes do PCA\n",
    "pca = PCA(n_components=10)\n",
    "\n",
    "pca.fit_transform(scaler_x)"
   ]
  },
  {
   "cell_type": "code",
   "execution_count": 14,
   "metadata": {},
   "outputs": [],
   "source": [
    "prop_var = pca.explained_variance_ratio_\n",
    "autovalor = pca.explained_variance_"
   ]
  },
  {
   "cell_type": "code",
   "execution_count": 16,
   "metadata": {},
   "outputs": [
    {
     "data": {
      "image/png": "[encoded data removed]",
      "text/plain": [
       "<Figure size 640x480 with 1 Axes>"
      ]
     },
     "metadata": {},
     "output_type": "display_data"
    }
   ],
   "source": [
    "PC_numeros = np.arange(pca.n_components_)+1\n",
    "\n",
    "plt.plot(PC_numeros, prop_var, 'ro-')\n",
    "\n",
    "plt.title('Figura 1: PCA Gráficos de pontos', fontsize = 10)\n",
    "plt.ylabel('Proporção de variancia', fontsize = 8)\n",
    "plt.xlabel('Numeros de PCA', fontsize = 8)\n",
    "\n",
    "plt.show()"
   ]
  },
  {
   "cell_type": "code",
   "execution_count": 18,
   "metadata": {},
   "outputs": [],
   "source": [
    "pca_otimo = PCA(n_components=4)\n",
    "PC = pca_otimo.fit_transform(scaler_x)"
   ]
  },
  {
   "cell_type": "code",
   "execution_count": 20,
   "metadata": {},
   "outputs": [
    {
     "data": {
      "text/html": [
       "<div>\n",
       "<style scoped>\n",
       "    .dataframe tbody tr th:only-of-type {\n",
       "        vertical-align: middle;\n",
       "    }\n",
       "\n",
       "    .dataframe tbody tr th {\n",
       "        vertical-align: top;\n",
       "    }\n",
       "\n",
       "    .dataframe thead th {\n",
       "        text-align: right;\n",
       "    }\n",
       "</style>\n",
       "<table border=\"1\" class=\"dataframe\">\n",
       "  <thead>\n",
       "    <tr style=\"text-align: right;\">\n",
       "      <th></th>\n",
       "      <th>PC1</th>\n",
       "      <th>PC2</th>\n",
       "      <th>PC3</th>\n",
       "      <th>PC4</th>\n",
       "    </tr>\n",
       "  </thead>\n",
       "  <tbody>\n",
       "    <tr>\n",
       "      <th>0</th>\n",
       "      <td>0.172612</td>\n",
       "      <td>-1.463898</td>\n",
       "      <td>0.703101</td>\n",
       "      <td>0.438739</td>\n",
       "    </tr>\n",
       "    <tr>\n",
       "      <th>1</th>\n",
       "      <td>0.205881</td>\n",
       "      <td>-1.388872</td>\n",
       "      <td>0.622007</td>\n",
       "      <td>0.380576</td>\n",
       "    </tr>\n",
       "    <tr>\n",
       "      <th>2</th>\n",
       "      <td>0.020852</td>\n",
       "      <td>-1.347610</td>\n",
       "      <td>0.790404</td>\n",
       "      <td>0.379806</td>\n",
       "    </tr>\n",
       "    <tr>\n",
       "      <th>3</th>\n",
       "      <td>0.307663</td>\n",
       "      <td>-1.430466</td>\n",
       "      <td>0.433342</td>\n",
       "      <td>0.522138</td>\n",
       "    </tr>\n",
       "    <tr>\n",
       "      <th>4</th>\n",
       "      <td>0.893253</td>\n",
       "      <td>-0.204428</td>\n",
       "      <td>1.071211</td>\n",
       "      <td>0.915587</td>\n",
       "    </tr>\n",
       "    <tr>\n",
       "      <th>5</th>\n",
       "      <td>0.067582</td>\n",
       "      <td>-1.335226</td>\n",
       "      <td>0.738502</td>\n",
       "      <td>0.358516</td>\n",
       "    </tr>\n",
       "    <tr>\n",
       "      <th>6</th>\n",
       "      <td>0.498248</td>\n",
       "      <td>-1.438599</td>\n",
       "      <td>0.250311</td>\n",
       "      <td>0.491146</td>\n",
       "    </tr>\n",
       "    <tr>\n",
       "      <th>7</th>\n",
       "      <td>0.454858</td>\n",
       "      <td>-1.382081</td>\n",
       "      <td>0.258911</td>\n",
       "      <td>0.457055</td>\n",
       "    </tr>\n",
       "    <tr>\n",
       "      <th>8</th>\n",
       "      <td>0.275485</td>\n",
       "      <td>-1.385178</td>\n",
       "      <td>0.447817</td>\n",
       "      <td>0.488508</td>\n",
       "    </tr>\n",
       "    <tr>\n",
       "      <th>9</th>\n",
       "      <td>0.623126</td>\n",
       "      <td>-1.454837</td>\n",
       "      <td>-0.043773</td>\n",
       "      <td>0.696298</td>\n",
       "    </tr>\n",
       "  </tbody>\n",
       "</table>\n",
       "</div>"
      ],
      "text/plain": [
       "        PC1       PC2       PC3       PC4\n",
       "0  0.172612 -1.463898  0.703101  0.438739\n",
       "1  0.205881 -1.388872  0.622007  0.380576\n",
       "2  0.020852 -1.347610  0.790404  0.379806\n",
       "3  0.307663 -1.430466  0.433342  0.522138\n",
       "4  0.893253 -0.204428  1.071211  0.915587\n",
       "5  0.067582 -1.335226  0.738502  0.358516\n",
       "6  0.498248 -1.438599  0.250311  0.491146\n",
       "7  0.454858 -1.382081  0.258911  0.457055\n",
       "8  0.275485 -1.385178  0.447817  0.488508\n",
       "9  0.623126 -1.454837 -0.043773  0.696298"
      ]
     },
     "metadata": {},
     "output_type": "display_data"
    }
   ],
   "source": [
    "pca_metal = pd.DataFrame(data = PC, columns = ['PC1', 'PC2', 'PC3', 'PC4'])\n",
    "\n",
    "display(pca_metal.head(10))"
   ]
  },
  {
   "cell_type": "code",
   "execution_count": 23,
   "metadata": {},
   "outputs": [],
   "source": [
    "# biplot \n",
    "def biplot(score, coef, labels=None):\n",
    "\n",
    "    xs=score[:,0]\n",
    "    ys=score[:,1]\n",
    "    n=coef.shape[0]\n",
    "\n",
    "    scalex = 1/(xs.max() - xs.min())\n",
    "    scaley = 1/(ys.max() - ys.min())\n",
    "\n",
    "    plt.scatter(xs * scalex, ys * scaley, s = 5, color ='orange')\n",
    "\n",
    "    for i in range(n):\n",
    "        plt.arrow(0, 0, coef[i, 0], coef[i, 1], color = 'red', alpha = 0.5)\n",
    "        plt.text(coef[i, 0] *1.15, coef[i, 1], labels = [i], color = 'darklbue', ha = 'center', va ='center')\n",
    "\n",
    "    \n",
    "    plt.xlabel('PC{}'.format(1))\n",
    "    plt.ylabel('PC{}'.format(2))\n",
    "\n",
    "    plt.figure()"
   ]
  },
  {
   "cell_type": "code",
   "execution_count": 24,
   "metadata": {},
   "outputs": [
    {
     "ename": "TypeError",
     "evalue": "text() missing 1 required positional argument: 's'",
     "output_type": "error",
     "traceback": [
      "\u001b[0;31m---------------------------------------------------------------------------\u001b[0m",
      "\u001b[0;31mTypeError\u001b[0m                                 Traceback (most recent call last)",
      "\u001b[1;32m/Volumes/Dados_2/TCC_DSA/Scripts/ML_metal.ipynb Célula 17\u001b[0m line \u001b[0;36m3\n\u001b[1;32m      <a href='vscode-notebook-cell:/Volumes/Dados_2/TCC_DSA/Scripts/ML_metal.ipynb#X62sZmlsZQ%3D%3D?line=0'>1</a>\u001b[0m plt\u001b[39m.\u001b[39mtitle(\u001b[39m'\u001b[39m\u001b[39mPCA Biplot\u001b[39m\u001b[39m'\u001b[39m)\n\u001b[0;32m----> <a href='vscode-notebook-cell:/Volumes/Dados_2/TCC_DSA/Scripts/ML_metal.ipynb#X62sZmlsZQ%3D%3D?line=2'>3</a>\u001b[0m biplot(PC, np\u001b[39m.\u001b[39;49mtranspose(pca_otimo\u001b[39m.\u001b[39;49mcomponents_), \u001b[39mlist\u001b[39;49m(df\u001b[39m.\u001b[39;49mcolumns))\n",
      "\u001b[1;32m/Volumes/Dados_2/TCC_DSA/Scripts/ML_metal.ipynb Célula 17\u001b[0m line \u001b[0;36m1\n\u001b[1;32m     <a href='vscode-notebook-cell:/Volumes/Dados_2/TCC_DSA/Scripts/ML_metal.ipynb#X62sZmlsZQ%3D%3D?line=12'>13</a>\u001b[0m \u001b[39mfor\u001b[39;00m i \u001b[39min\u001b[39;00m \u001b[39mrange\u001b[39m(n):\n\u001b[1;32m     <a href='vscode-notebook-cell:/Volumes/Dados_2/TCC_DSA/Scripts/ML_metal.ipynb#X62sZmlsZQ%3D%3D?line=13'>14</a>\u001b[0m     plt\u001b[39m.\u001b[39marrow(\u001b[39m0\u001b[39m, \u001b[39m0\u001b[39m, coef[i, \u001b[39m0\u001b[39m], coef[i, \u001b[39m1\u001b[39m], color \u001b[39m=\u001b[39m \u001b[39m'\u001b[39m\u001b[39mred\u001b[39m\u001b[39m'\u001b[39m, alpha \u001b[39m=\u001b[39m \u001b[39m0.5\u001b[39m)\n\u001b[0;32m---> <a href='vscode-notebook-cell:/Volumes/Dados_2/TCC_DSA/Scripts/ML_metal.ipynb#X62sZmlsZQ%3D%3D?line=14'>15</a>\u001b[0m     plt\u001b[39m.\u001b[39;49mtext(coef[i, \u001b[39m0\u001b[39;49m] \u001b[39m*\u001b[39;49m\u001b[39m1.15\u001b[39;49m, coef[i, \u001b[39m1\u001b[39;49m], color \u001b[39m=\u001b[39;49m \u001b[39m'\u001b[39;49m\u001b[39mdarklbue\u001b[39;49m\u001b[39m'\u001b[39;49m, ha \u001b[39m=\u001b[39;49m \u001b[39m'\u001b[39;49m\u001b[39mcenter\u001b[39;49m\u001b[39m'\u001b[39;49m, va \u001b[39m=\u001b[39;49m\u001b[39m'\u001b[39;49m\u001b[39mcenter\u001b[39;49m\u001b[39m'\u001b[39;49m)\n\u001b[1;32m     <a href='vscode-notebook-cell:/Volumes/Dados_2/TCC_DSA/Scripts/ML_metal.ipynb#X62sZmlsZQ%3D%3D?line=17'>18</a>\u001b[0m plt\u001b[39m.\u001b[39mxlabel(\u001b[39m'\u001b[39m\u001b[39mPC\u001b[39m\u001b[39m{}\u001b[39;00m\u001b[39m'\u001b[39m\u001b[39m.\u001b[39mformat(\u001b[39m1\u001b[39m))\n\u001b[1;32m     <a href='vscode-notebook-cell:/Volumes/Dados_2/TCC_DSA/Scripts/ML_metal.ipynb#X62sZmlsZQ%3D%3D?line=18'>19</a>\u001b[0m plt\u001b[39m.\u001b[39mylabel(\u001b[39m'\u001b[39m\u001b[39mPC\u001b[39m\u001b[39m{}\u001b[39;00m\u001b[39m'\u001b[39m\u001b[39m.\u001b[39mformat(\u001b[39m2\u001b[39m))\n",
      "\u001b[0;31mTypeError\u001b[0m: text() missing 1 required positional argument: 's'"
     ]
    },
    {
     "data": {
      "image/png": "[encoded data removed]",
      "text/plain": [
       "<Figure size 640x480 with 1 Axes>"
      ]
     },
     "metadata": {},
     "output_type": "display_data"
    }
   ],
   "source": [
    "plt.title('PCA Biplot')\n",
    "\n",
    "biplot(PC, np.transpose(pca_otimo.components_), list(df.columns))"
   ]
  },
  {
   "cell_type": "markdown",
   "metadata": {},
   "source": [
    "Determinando o número de clusters"
   ]
  },
  {
   "cell_type": "code",
   "execution_count": 52,
   "metadata": {},
   "outputs": [
    {
     "name": "stderr",
     "output_type": "stream",
     "text": [
      "/Volumes/Dados_1/Aplicativos/anaconda3/envs/tcc_dsa/lib/python3.9/site-packages/sklearn/cluster/_kmeans.py:870: FutureWarning: The default value of `n_init` will change from 10 to 'auto' in 1.4. Set the value of `n_init` explicitly to suppress the warning\n",
      "  warnings.warn(\n"
     ]
    },
    {
     "name": "stderr",
     "output_type": "stream",
     "text": [
      "/Volumes/Dados_1/Aplicativos/anaconda3/envs/tcc_dsa/lib/python3.9/site-packages/sklearn/cluster/_kmeans.py:870: FutureWarning: The default value of `n_init` will change from 10 to 'auto' in 1.4. Set the value of `n_init` explicitly to suppress the warning\n",
      "  warnings.warn(\n",
      "/Volumes/Dados_1/Aplicativos/anaconda3/envs/tcc_dsa/lib/python3.9/site-packages/sklearn/cluster/_kmeans.py:870: FutureWarning: The default value of `n_init` will change from 10 to 'auto' in 1.4. Set the value of `n_init` explicitly to suppress the warning\n",
      "  warnings.warn(\n",
      "/Volumes/Dados_1/Aplicativos/anaconda3/envs/tcc_dsa/lib/python3.9/site-packages/sklearn/cluster/_kmeans.py:870: FutureWarning: The default value of `n_init` will change from 10 to 'auto' in 1.4. Set the value of `n_init` explicitly to suppress the warning\n",
      "  warnings.warn(\n",
      "/Volumes/Dados_1/Aplicativos/anaconda3/envs/tcc_dsa/lib/python3.9/site-packages/sklearn/cluster/_kmeans.py:870: FutureWarning: The default value of `n_init` will change from 10 to 'auto' in 1.4. Set the value of `n_init` explicitly to suppress the warning\n",
      "  warnings.warn(\n",
      "/Volumes/Dados_1/Aplicativos/anaconda3/envs/tcc_dsa/lib/python3.9/site-packages/sklearn/cluster/_kmeans.py:870: FutureWarning: The default value of `n_init` will change from 10 to 'auto' in 1.4. Set the value of `n_init` explicitly to suppress the warning\n",
      "  warnings.warn(\n"
     ]
    }
   ],
   "source": [
    "wcs = {}\n",
    "\n",
    "for i in range (1, 7):\n",
    "    kmeans = KMeans(n_clusters = i, init = 'k-means++', random_state = 50)\n",
    "    kmeans.fit(X)\n",
    "    wcs[i] = kmeans.inertia_"
   ]
  },
  {
   "cell_type": "code",
   "execution_count": 53,
   "metadata": {},
   "outputs": [
    {
     "data": {
      "image/png": "[encoded data removed]",
      "text/plain": [
       "<Figure size 800x800 with 1 Axes>"
      ]
     },
     "metadata": {},
     "output_type": "display_data"
    }
   ],
   "source": [
    "#Gráfico de elbow\n",
    "sns.set_theme(style ='ticks')\n",
    "\n",
    "f, ax = plt.subplots(figsize = (8,8))\n",
    "\n",
    "sns.lineplot(x = wcs.keys(), y = wcs.values(), markers='*', markersize = 50)\n",
    "\n",
    "ax.set(xlabel='Números de agrupamentos')\n",
    "ax.set(ylabel= 'WCSS')\n",
    "ax.set(title = 'Gráfico de elbow para K-means')\n",
    "\n",
    "plt.show()"
   ]
  },
  {
   "cell_type": "code",
   "execution_count": 9,
   "metadata": {},
   "outputs": [],
   "source": [
    "#cross validation\n",
    "from sklearn.model_selection import train_test_split\n",
    "\n",
    "treino_var, teste_var, treino_resposta, teste_resposta = train_test_split(df_var, df_resposta, test_size=0.3)"
   ]
  },
  {
   "cell_type": "markdown",
   "metadata": {},
   "source": [
    "Random florest classificador"
   ]
  },
  {
   "cell_type": "code",
   "execution_count": 93,
   "metadata": {},
   "outputs": [],
   "source": [
    "#separando as variáveis em propriedades e nomes das colunas\n",
    "X = df_ML.iloc[:, 1:-1].values\n",
    "Y = df_ML.iloc[:, 1].values"
   ]
  },
  {
   "cell_type": "code",
   "execution_count": 94,
   "metadata": {},
   "outputs": [
    {
     "data": {
      "text/html": [
       "<style>#sk-container-id-10 {color: black;background-color: white;}#sk-container-id-10 pre{padding: 0;}#sk-container-id-10 div.sk-toggleable {background-color: white;}#sk-container-id-10 label.sk-toggleable__label {cursor: pointer;display: block;width: 100%;margin-bottom: 0;padding: 0.3em;box-sizing: border-box;text-align: center;}#sk-container-id-10 label.sk-toggleable__label-arrow:before {content: \"▸\";float: left;margin-right: 0.25em;color: #696969;}#sk-container-id-10 label.sk-toggleable__label-arrow:hover:before {color: black;}#sk-container-id-10 div.sk-estimator:hover label.sk-toggleable__label-arrow:before {color: black;}#sk-container-id-10 div.sk-toggleable__content {max-height: 0;max-width: 0;overflow: hidden;text-align: left;background-color: #f0f8ff;}#sk-container-id-10 div.sk-toggleable__content pre {margin: 0.2em;color: black;border-radius: 0.25em;background-color: #f0f8ff;}#sk-container-id-10 input.sk-toggleable__control:checked~div.sk-toggleable__content {max-height: 200px;max-width: 100%;overflow: auto;}#sk-container-id-10 input.sk-toggleable__control:checked~label.sk-toggleable__label-arrow:before {content: \"▾\";}#sk-container-id-10 div.sk-estimator input.sk-toggleable__control:checked~label.sk-toggleable__label {background-color: #d4ebff;}#sk-container-id-10 div.sk-label input.sk-toggleable__control:checked~label.sk-toggleable__label {background-color: #d4ebff;}#sk-container-id-10 input.sk-hidden--visually {border: 0;clip: rect(1px 1px 1px 1px);clip: rect(1px, 1px, 1px, 1px);height: 1px;margin: -1px;overflow: hidden;padding: 0;position: absolute;width: 1px;}#sk-container-id-10 div.sk-estimator {font-family: monospace;background-color: #f0f8ff;border: 1px dotted black;border-radius: 0.25em;box-sizing: border-box;margin-bottom: 0.5em;}#sk-container-id-10 div.sk-estimator:hover {background-color: #d4ebff;}#sk-container-id-10 div.sk-parallel-item::after {content: \"\";width: 100%;border-bottom: 1px solid gray;flex-grow: 1;}#sk-container-id-10 div.sk-label:hover label.sk-toggleable__label {background-color: #d4ebff;}#sk-container-id-10 div.sk-serial::before {content: \"\";position: absolute;border-left: 1px solid gray;box-sizing: border-box;top: 0;bottom: 0;left: 50%;z-index: 0;}#sk-container-id-10 div.sk-serial {display: flex;flex-direction: column;align-items: center;background-color: white;padding-right: 0.2em;padding-left: 0.2em;position: relative;}#sk-container-id-10 div.sk-item {position: relative;z-index: 1;}#sk-container-id-10 div.sk-parallel {display: flex;align-items: stretch;justify-content: center;background-color: white;position: relative;}#sk-container-id-10 div.sk-item::before, #sk-container-id-10 div.sk-parallel-item::before {content: \"\";position: absolute;border-left: 1px solid gray;box-sizing: border-box;top: 0;bottom: 0;left: 50%;z-index: -1;}#sk-container-id-10 div.sk-parallel-item {display: flex;flex-direction: column;z-index: 1;position: relative;background-color: white;}#sk-container-id-10 div.sk-parallel-item:first-child::after {align-self: flex-end;width: 50%;}#sk-container-id-10 div.sk-parallel-item:last-child::after {align-self: flex-start;width: 50%;}#sk-container-id-10 div.sk-parallel-item:only-child::after {width: 0;}#sk-container-id-10 div.sk-dashed-wrapped {border: 1px dashed gray;margin: 0 0.4em 0.5em 0.4em;box-sizing: border-box;padding-bottom: 0.4em;background-color: white;}#sk-container-id-10 div.sk-label label {font-family: monospace;font-weight: bold;display: inline-block;line-height: 1.2em;}#sk-container-id-10 div.sk-label-container {text-align: center;}#sk-container-id-10 div.sk-container {/* jupyter's `normalize.less` sets `[hidden] { display: none; }` but bootstrap.min.css set `[hidden] { display: none !important; }` so we also need the `!important` here to be able to override the default hidden behavior on the sphinx rendered scikit-learn.org. See: https://github.com/scikit-learn/scikit-learn/issues/21755 */display: inline-block !important;position: relative;}#sk-container-id-10 div.sk-text-repr-fallback {display: none;}</style><div id=\"sk-container-id-10\" class=\"sk-top-container\"><div class=\"sk-text-repr-fallback\"><pre>RandomForestClassifier(random_state=50)</pre><b>In a Jupyter environment, please rerun this cell to show the HTML representation or trust the notebook. <br />On GitHub, the HTML representation is unable to render, please try loading this page with nbviewer.org.</b></div><div class=\"sk-container\" hidden><div class=\"sk-item\"><div class=\"sk-estimator sk-toggleable\"><input class=\"sk-toggleable__control sk-hidden--visually\" id=\"sk-estimator-id-10\" type=\"checkbox\" checked><label for=\"sk-estimator-id-10\" class=\"sk-toggleable__label sk-toggleable__label-arrow\">RandomForestClassifier</label><div class=\"sk-toggleable__content\"><pre>RandomForestClassifier(random_state=50)</pre></div></div></div></div></div>"
      ],
      "text/plain": [
       "RandomForestClassifier(random_state=50)"
      ]
     },
     "execution_count": 94,
     "metadata": {},
     "output_type": "execute_result"
    }
   ],
   "source": [
    "rf = RandomForestClassifier(n_estimators=100, random_state=50)\n",
    "rf.fit(X, Y)"
   ]
  },
  {
   "cell_type": "code",
   "execution_count": 95,
   "metadata": {},
   "outputs": [
    {
     "ename": "TypeError",
     "evalue": "'DecisionTreeClassifier' object is not subscriptable",
     "output_type": "error",
     "traceback": [
      "\u001b[0;31m---------------------------------------------------------------------------\u001b[0m",
      "\u001b[0;31mTypeError\u001b[0m                                 Traceback (most recent call last)",
      "\u001b[1;32m/Volumes/Dados_2/TCC_DSA/Scripts/ML_metal.ipynb Célula 30\u001b[0m line \u001b[0;36m2\n\u001b[1;32m      <a href='vscode-notebook-cell:/Volumes/Dados_2/TCC_DSA/Scripts/ML_metal.ipynb#X35sZmlsZQ%3D%3D?line=0'>1</a>\u001b[0m \u001b[39m#visualizando a arvore de decisão\u001b[39;00m\n\u001b[0;32m----> <a href='vscode-notebook-cell:/Volumes/Dados_2/TCC_DSA/Scripts/ML_metal.ipynb#X35sZmlsZQ%3D%3D?line=1'>2</a>\u001b[0m dot_data \u001b[39m=\u001b[39m export_graphviz(rf\u001b[39m.\u001b[39;49mestimator_[\u001b[39m0\u001b[39;49m], out_file\u001b[39m=\u001b[39m\u001b[39mNone\u001b[39;00m,\n\u001b[1;32m      <a href='vscode-notebook-cell:/Volumes/Dados_2/TCC_DSA/Scripts/ML_metal.ipynb#X35sZmlsZQ%3D%3D?line=2'>3</a>\u001b[0m                            feature_names\u001b[39m=\u001b[39m[\u001b[39m'\u001b[39m\u001b[39mSu\u001b[39m\u001b[39m'\u001b[39m, \u001b[39m'\u001b[39m\u001b[39mSy\u001b[39m\u001b[39m'\u001b[39m, \u001b[39m'\u001b[39m\u001b[39mE\u001b[39m\u001b[39m'\u001b[39m, \u001b[39m'\u001b[39m\u001b[39mG\u001b[39m\u001b[39m'\u001b[39m, \u001b[39m'\u001b[39m\u001b[39mmu\u001b[39m\u001b[39m'\u001b[39m, \u001b[39m'\u001b[39m\u001b[39mRo\u001b[39m\u001b[39m'\u001b[39m],\n\u001b[1;32m      <a href='vscode-notebook-cell:/Volumes/Dados_2/TCC_DSA/Scripts/ML_metal.ipynb#X35sZmlsZQ%3D%3D?line=3'>4</a>\u001b[0m                            class_names\u001b[39m=\u001b[39m[\u001b[39m'\u001b[39m\u001b[39m1\u001b[39m\u001b[39m'\u001b[39m, \u001b[39m'\u001b[39m\u001b[39m2\u001b[39m\u001b[39m'\u001b[39m, \u001b[39m'\u001b[39m\u001b[39m3\u001b[39m\u001b[39m'\u001b[39m, \u001b[39m'\u001b[39m\u001b[39m4\u001b[39m\u001b[39m'\u001b[39m, \u001b[39m'\u001b[39m\u001b[39m5\u001b[39m\u001b[39m'\u001b[39m], filled\u001b[39m=\u001b[39m\u001b[39mTrue\u001b[39;00m, rounded\u001b[39m=\u001b[39m\u001b[39mTrue\u001b[39;00m)\n",
      "\u001b[0;31mTypeError\u001b[0m: 'DecisionTreeClassifier' object is not subscriptable"
     ]
    }
   ],
   "source": [
    "#visualizando a arvore de decisão\n",
    "dot_data = export_graphviz(rf.estimator_[0], out_file=None,\n",
    "                           feature_names=['Su', 'Sy', 'E', 'G', 'mu', 'Ro'],\n",
    "                           class_names=['1', '2', '3', '4', '5'], filled=True, rounded=True)"
   ]
  },
  {
   "cell_type": "code",
   "execution_count": null,
   "metadata": {},
   "outputs": [],
   "source": [
    "grafico = graphviz.Source(dot_data, format = 'png')"
   ]
  },
  {
   "cell_type": "markdown",
   "metadata": {},
   "source": []
  }
 ],
 "metadata": {
  "kernelspec": {
   "display_name": "Python 3",
   "language": "python",
   "name": "python3"
  },
  "language_info": {
   "codemirror_mode": {
    "name": "ipython",
    "version": 3
   },
   "file_extension": ".py",
   "mimetype": "text/x-python",
   "name": "python",
   "nbconvert_exporter": "python",
   "pygments_lexer": "ipython3",
   "version": "3.9.17"
  },
  "orig_nbformat": 4
 },
 "nbformat": 4,
 "nbformat_minor": 2
}
