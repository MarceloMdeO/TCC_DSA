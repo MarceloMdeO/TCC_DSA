{
 "cells": [
  {
   "cell_type": "code",
   "execution_count": 10,
   "metadata": {},
   "outputs": [],
   "source": [
    "#bibliotecas de análise\n",
    "import pandas as pd\n",
    "import numpy as np\n",
    "\n",
    "#pacotes para gráficos\n",
    "import graphviz\n",
    "import matplotlib.pyplot as plt\n",
    "\n",
    "#pacote para clustering\n",
    "from sklearn.cluster import KMeans\n",
    "from sklearn.cluster import AgglomerativeClustering\n",
    "from scipy.cluster.hierarchy import dendrogram\n",
    "\n",
    "#pacote para realização do PCA\n",
    "from sklearn.decomposition import PCA\n",
    "from sklearn.discriminant_analysis import LinearDiscriminantAnalysis\n",
    "from sklearn.preprocessing import StandardScaler\n",
    "\n",
    "#pacote para arvore de decião\n",
    "from sklearn.tree import DecisionTreeClassifier\n",
    "from sklearn.tree import DecisionTreeRegressor\n",
    "\n",
    "#pacotes para o randon florest\n",
    "from sklearn.ensemble import RandomForestClassifier\n",
    "from sklearn.tree import export_graphviz"
   ]
  },
  {
   "cell_type": "markdown",
   "metadata": {},
   "source": [
    "Carregando a tabela de dados préprocessada"
   ]
  },
  {
   "cell_type": "code",
   "execution_count": 4,
   "metadata": {},
   "outputs": [],
   "source": [
    "df = pd.read_csv('../Scripts/df_metal_ML.csv', sep = ',', header = 0)"
   ]
  },
  {
   "cell_type": "code",
   "execution_count": 6,
   "metadata": {},
   "outputs": [
    {
     "data": {
      "text/html": [
       "<div>\n",
       "<style scoped>\n",
       "    .dataframe tbody tr th:only-of-type {\n",
       "        vertical-align: middle;\n",
       "    }\n",
       "\n",
       "    .dataframe tbody tr th {\n",
       "        vertical-align: top;\n",
       "    }\n",
       "\n",
       "    .dataframe thead th {\n",
       "        text-align: right;\n",
       "    }\n",
       "</style>\n",
       "<table border=\"1\" class=\"dataframe\">\n",
       "  <thead>\n",
       "    <tr style=\"text-align: right;\">\n",
       "      <th></th>\n",
       "      <th>Material</th>\n",
       "      <th>Su</th>\n",
       "      <th>Sy</th>\n",
       "      <th>A5</th>\n",
       "      <th>Bhn</th>\n",
       "      <th>E</th>\n",
       "      <th>G</th>\n",
       "      <th>mu</th>\n",
       "      <th>Ro</th>\n",
       "      <th>categoria</th>\n",
       "    </tr>\n",
       "  </thead>\n",
       "  <tbody>\n",
       "    <tr>\n",
       "      <th>count</th>\n",
       "      <td>675</td>\n",
       "      <td>675.000000</td>\n",
       "      <td>675.000000</td>\n",
       "      <td>675.000000</td>\n",
       "      <td>675.000000</td>\n",
       "      <td>675.000000</td>\n",
       "      <td>675.000000</td>\n",
       "      <td>675.000000</td>\n",
       "      <td>675.000000</td>\n",
       "      <td>675.000000</td>\n",
       "    </tr>\n",
       "    <tr>\n",
       "      <th>unique</th>\n",
       "      <td>630</td>\n",
       "      <td>NaN</td>\n",
       "      <td>NaN</td>\n",
       "      <td>NaN</td>\n",
       "      <td>NaN</td>\n",
       "      <td>NaN</td>\n",
       "      <td>NaN</td>\n",
       "      <td>NaN</td>\n",
       "      <td>NaN</td>\n",
       "      <td>NaN</td>\n",
       "    </tr>\n",
       "    <tr>\n",
       "      <th>top</th>\n",
       "      <td>GOST Steel 50 GOST 1577-93 normalized</td>\n",
       "      <td>NaN</td>\n",
       "      <td>NaN</td>\n",
       "      <td>NaN</td>\n",
       "      <td>NaN</td>\n",
       "      <td>NaN</td>\n",
       "      <td>NaN</td>\n",
       "      <td>NaN</td>\n",
       "      <td>NaN</td>\n",
       "      <td>NaN</td>\n",
       "    </tr>\n",
       "    <tr>\n",
       "      <th>freq</th>\n",
       "      <td>3</td>\n",
       "      <td>NaN</td>\n",
       "      <td>NaN</td>\n",
       "      <td>NaN</td>\n",
       "      <td>NaN</td>\n",
       "      <td>NaN</td>\n",
       "      <td>NaN</td>\n",
       "      <td>NaN</td>\n",
       "      <td>NaN</td>\n",
       "      <td>NaN</td>\n",
       "    </tr>\n",
       "    <tr>\n",
       "      <th>mean</th>\n",
       "      <td>NaN</td>\n",
       "      <td>584.880000</td>\n",
       "      <td>409.570370</td>\n",
       "      <td>14.061333</td>\n",
       "      <td>101.502222</td>\n",
       "      <td>150456.296296</td>\n",
       "      <td>108336.296296</td>\n",
       "      <td>0.310726</td>\n",
       "      <td>5703.684444</td>\n",
       "      <td>3.048889</td>\n",
       "    </tr>\n",
       "    <tr>\n",
       "      <th>std</th>\n",
       "      <td>NaN</td>\n",
       "      <td>389.751772</td>\n",
       "      <td>339.980396</td>\n",
       "      <td>11.094605</td>\n",
       "      <td>124.457343</td>\n",
       "      <td>65143.432944</td>\n",
       "      <td>186578.885476</td>\n",
       "      <td>0.016529</td>\n",
       "      <td>2610.918867</td>\n",
       "      <td>1.380979</td>\n",
       "    </tr>\n",
       "    <tr>\n",
       "      <th>min</th>\n",
       "      <td>NaN</td>\n",
       "      <td>69.000000</td>\n",
       "      <td>28.000000</td>\n",
       "      <td>0.000000</td>\n",
       "      <td>0.000000</td>\n",
       "      <td>73000.000000</td>\n",
       "      <td>26000.000000</td>\n",
       "      <td>0.290000</td>\n",
       "      <td>1750.000000</td>\n",
       "      <td>1.000000</td>\n",
       "    </tr>\n",
       "    <tr>\n",
       "      <th>25%</th>\n",
       "      <td>NaN</td>\n",
       "      <td>276.000000</td>\n",
       "      <td>200.000000</td>\n",
       "      <td>6.000000</td>\n",
       "      <td>0.000000</td>\n",
       "      <td>73000.000000</td>\n",
       "      <td>26000.000000</td>\n",
       "      <td>0.300000</td>\n",
       "      <td>2700.000000</td>\n",
       "      <td>1.000000</td>\n",
       "    </tr>\n",
       "    <tr>\n",
       "      <th>50%</th>\n",
       "      <td>NaN</td>\n",
       "      <td>524.000000</td>\n",
       "      <td>320.000000</td>\n",
       "      <td>12.000000</td>\n",
       "      <td>60.000000</td>\n",
       "      <td>200000.000000</td>\n",
       "      <td>77000.000000</td>\n",
       "      <td>0.300000</td>\n",
       "      <td>7820.000000</td>\n",
       "      <td>3.000000</td>\n",
       "    </tr>\n",
       "    <tr>\n",
       "      <th>75%</th>\n",
       "      <td>NaN</td>\n",
       "      <td>733.000000</td>\n",
       "      <td>466.500000</td>\n",
       "      <td>20.000000</td>\n",
       "      <td>176.500000</td>\n",
       "      <td>207000.000000</td>\n",
       "      <td>80000.000000</td>\n",
       "      <td>0.330000</td>\n",
       "      <td>7860.000000</td>\n",
       "      <td>4.000000</td>\n",
       "    </tr>\n",
       "    <tr>\n",
       "      <th>max</th>\n",
       "      <td>NaN</td>\n",
       "      <td>2220.000000</td>\n",
       "      <td>2048.000000</td>\n",
       "      <td>60.000000</td>\n",
       "      <td>627.000000</td>\n",
       "      <td>219000.000000</td>\n",
       "      <td>769000.000000</td>\n",
       "      <td>0.330000</td>\n",
       "      <td>8800.000000</td>\n",
       "      <td>5.000000</td>\n",
       "    </tr>\n",
       "  </tbody>\n",
       "</table>\n",
       "</div>"
      ],
      "text/plain": [
       "                                     Material           Su           Sy  \\\n",
       "count                                     675   675.000000   675.000000   \n",
       "unique                                    630          NaN          NaN   \n",
       "top     GOST Steel 50 GOST 1577-93 normalized          NaN          NaN   \n",
       "freq                                        3          NaN          NaN   \n",
       "mean                                      NaN   584.880000   409.570370   \n",
       "std                                       NaN   389.751772   339.980396   \n",
       "min                                       NaN    69.000000    28.000000   \n",
       "25%                                       NaN   276.000000   200.000000   \n",
       "50%                                       NaN   524.000000   320.000000   \n",
       "75%                                       NaN   733.000000   466.500000   \n",
       "max                                       NaN  2220.000000  2048.000000   \n",
       "\n",
       "                A5         Bhn              E              G          mu  \\\n",
       "count   675.000000  675.000000     675.000000     675.000000  675.000000   \n",
       "unique         NaN         NaN            NaN            NaN         NaN   \n",
       "top            NaN         NaN            NaN            NaN         NaN   \n",
       "freq           NaN         NaN            NaN            NaN         NaN   \n",
       "mean     14.061333  101.502222  150456.296296  108336.296296    0.310726   \n",
       "std      11.094605  124.457343   65143.432944  186578.885476    0.016529   \n",
       "min       0.000000    0.000000   73000.000000   26000.000000    0.290000   \n",
       "25%       6.000000    0.000000   73000.000000   26000.000000    0.300000   \n",
       "50%      12.000000   60.000000  200000.000000   77000.000000    0.300000   \n",
       "75%      20.000000  176.500000  207000.000000   80000.000000    0.330000   \n",
       "max      60.000000  627.000000  219000.000000  769000.000000    0.330000   \n",
       "\n",
       "                 Ro   categoria  \n",
       "count    675.000000  675.000000  \n",
       "unique          NaN         NaN  \n",
       "top             NaN         NaN  \n",
       "freq            NaN         NaN  \n",
       "mean    5703.684444    3.048889  \n",
       "std     2610.918867    1.380979  \n",
       "min     1750.000000    1.000000  \n",
       "25%     2700.000000    1.000000  \n",
       "50%     7820.000000    3.000000  \n",
       "75%     7860.000000    4.000000  \n",
       "max     8800.000000    5.000000  "
      ]
     },
     "execution_count": 6,
     "metadata": {},
     "output_type": "execute_result"
    }
   ],
   "source": [
    "df.describe(include = 'all')"
   ]
  },
  {
   "cell_type": "code",
   "execution_count": 88,
   "metadata": {},
   "outputs": [],
   "source": [
    "var = df.drop(['Material', 'categoria'], axis = 1)\n",
    "df_resposta = df['categoria'].values"
   ]
  },
  {
   "cell_type": "code",
   "execution_count": 89,
   "metadata": {},
   "outputs": [
    {
     "data": {
      "text/plain": [
       "(675,)"
      ]
     },
     "execution_count": 89,
     "metadata": {},
     "output_type": "execute_result"
    }
   ],
   "source": [
    "df_resposta.shape"
   ]
  },
  {
   "cell_type": "code",
   "execution_count": 90,
   "metadata": {},
   "outputs": [
    {
     "data": {
      "text/plain": [
       "(array([1, 2, 3, 4, 5]), array([177,  14, 165, 237,  82]))"
      ]
     },
     "execution_count": 90,
     "metadata": {},
     "output_type": "execute_result"
    }
   ],
   "source": [
    "np.unique(df_resposta, return_counts = True)"
   ]
  },
  {
   "cell_type": "code",
   "execution_count": 91,
   "metadata": {},
   "outputs": [],
   "source": [
    "#padronização dos dados\n",
    "scale_obj = StandardScaler()\n",
    "df_var = scale_obj.fit_transform(var.astype(float))"
   ]
  },
  {
   "cell_type": "code",
   "execution_count": 108,
   "metadata": {},
   "outputs": [],
   "source": [
    "#cross validation\n",
    "from sklearn.model_selection import train_test_split\n",
    "\n",
    "treino_var, teste_var, treino_resposta, teste_resposta = train_test_split(df_var, df_resposta, test_size=0.3)"
   ]
  },
  {
   "cell_type": "markdown",
   "metadata": {},
   "source": [
    "PCA"
   ]
  },
  {
   "cell_type": "code",
   "execution_count": 128,
   "metadata": {},
   "outputs": [],
   "source": [
    "pca = PCA(n_components=2)\n",
    "treino_var_pca = pca.fit(treino_var)\n",
    "r2 = pca.transform(treino_var)"
   ]
  },
  {
   "cell_type": "code",
   "execution_count": 129,
   "metadata": {},
   "outputs": [
    {
     "name": "stdout",
     "output_type": "stream",
     "text": [
      "Variacia expelicada pelo PCA: [0.54735342 0.20616822]\n"
     ]
    }
   ],
   "source": [
    "\n",
    "print(f'Variacia expelicada pelo PCA: {pca.explained_variance_ratio_}')"
   ]
  },
  {
   "cell_type": "code",
   "execution_count": 135,
   "metadata": {},
   "outputs": [],
   "source": [
    "def cores (valores):\n",
    "    cores ={key:index for index, key in enumerate(valores.unique())}\n",
    "    return valores.apply(lambda x: cores[x])"
   ]
  },
  {
   "cell_type": "code",
   "execution_count": 136,
   "metadata": {},
   "outputs": [
    {
     "ename": "AttributeError",
     "evalue": "'numpy.ndarray' object has no attribute 'unique'",
     "output_type": "error",
     "traceback": [
      "\u001b[0;31m---------------------------------------------------------------------------\u001b[0m",
      "\u001b[0;31mAttributeError\u001b[0m                            Traceback (most recent call last)",
      "\u001b[1;32m/Volumes/Dados_2/TCC_DSA/Scripts/ML_metal.ipynb Célula 14\u001b[0m line \u001b[0;36m1\n\u001b[0;32m----> <a href='vscode-notebook-cell:/Volumes/Dados_2/TCC_DSA/Scripts/ML_metal.ipynb#X36sZmlsZQ%3D%3D?line=0'>1</a>\u001b[0m plt\u001b[39m.\u001b[39mscatter(r2[:,\u001b[39m0\u001b[39m], r2[:, \u001b[39m1\u001b[39m], c \u001b[39m=\u001b[39m cores(df_resposta))\n",
      "\u001b[1;32m/Volumes/Dados_2/TCC_DSA/Scripts/ML_metal.ipynb Célula 14\u001b[0m line \u001b[0;36m2\n\u001b[1;32m      <a href='vscode-notebook-cell:/Volumes/Dados_2/TCC_DSA/Scripts/ML_metal.ipynb#X36sZmlsZQ%3D%3D?line=0'>1</a>\u001b[0m \u001b[39mdef\u001b[39;00m \u001b[39mcores\u001b[39m (valores):\n\u001b[0;32m----> <a href='vscode-notebook-cell:/Volumes/Dados_2/TCC_DSA/Scripts/ML_metal.ipynb#X36sZmlsZQ%3D%3D?line=1'>2</a>\u001b[0m     cores \u001b[39m=\u001b[39m{key:index \u001b[39mfor\u001b[39;00m index, key \u001b[39min\u001b[39;00m \u001b[39menumerate\u001b[39m(valores\u001b[39m.\u001b[39;49munique())}\n\u001b[1;32m      <a href='vscode-notebook-cell:/Volumes/Dados_2/TCC_DSA/Scripts/ML_metal.ipynb#X36sZmlsZQ%3D%3D?line=2'>3</a>\u001b[0m     \u001b[39mreturn\u001b[39;00m valores\u001b[39m.\u001b[39mapply(\u001b[39mlambda\u001b[39;00m x: cores[x])\n",
      "\u001b[0;31mAttributeError\u001b[0m: 'numpy.ndarray' object has no attribute 'unique'"
     ]
    }
   ],
   "source": [
    "plt.scatter(r2[:,0], r2[:, 1], c = cores(df_resposta))"
   ]
  },
  {
   "cell_type": "code",
   "execution_count": null,
   "metadata": {},
   "outputs": [],
   "source": [
    "df_pc = pd.DataFrame(data = treino_var, )Í"
   ]
  },
  {
   "cell_type": "code",
   "execution_count": null,
   "metadata": {},
   "outputs": [],
   "source": [
    "ax = fig.add_subplot(1,1,1)\n",
    "ax.set_xlabel('Componente principal 1', fontsize = 15)\n",
    "ax.set_ylabel('Componente principal 2', fontsize = 15)"
   ]
  }
 ],
 "metadata": {
  "kernelspec": {
   "display_name": "Python 3",
   "language": "python",
   "name": "python3"
  },
  "language_info": {
   "codemirror_mode": {
    "name": "ipython",
    "version": 3
   },
   "file_extension": ".py",
   "mimetype": "text/x-python",
   "name": "python",
   "nbconvert_exporter": "python",
   "pygments_lexer": "ipython3",
   "version": "3.9.17"
  },
  "orig_nbformat": 4
 },
 "nbformat": 4,
 "nbformat_minor": 2
}
